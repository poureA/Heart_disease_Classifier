{
 "cells": [
  {
   "cell_type": "markdown",
   "id": "e738c74c",
   "metadata": {},
   "source": [
    "# Task 1"
   ]
  },
  {
   "cell_type": "markdown",
   "id": "481883c8",
   "metadata": {},
   "source": [
    "Loading csv file into notebook"
   ]
  },
  {
   "cell_type": "code",
   "execution_count": 631,
   "id": "8b7f190d",
   "metadata": {},
   "outputs": [],
   "source": [
    "from pandas import read_csv , concat , get_dummies , DataFrame\n",
    "from numpy import mean\n",
    "from sklearn.model_selection import train_test_split\n",
    "from sklearn.preprocessing import StandardScaler\n",
    "from sklearn.ensemble import GradientBoostingClassifier\n",
    "from sklearn.metrics import confusion_matrix , ConfusionMatrixDisplay\n",
    "from matplotlib.pyplot import pie , hist , show , xlabel , ylabel , title"
   ]
  },
  {
   "cell_type": "code",
   "execution_count": 632,
   "id": "f3587218",
   "metadata": {},
   "outputs": [
    {
     "data": {
      "text/html": [
       "<div>\n",
       "<style scoped>\n",
       "    .dataframe tbody tr th:only-of-type {\n",
       "        vertical-align: middle;\n",
       "    }\n",
       "\n",
       "    .dataframe tbody tr th {\n",
       "        vertical-align: top;\n",
       "    }\n",
       "\n",
       "    .dataframe thead th {\n",
       "        text-align: right;\n",
       "    }\n",
       "</style>\n",
       "<table border=\"1\" class=\"dataframe\">\n",
       "  <thead>\n",
       "    <tr style=\"text-align: right;\">\n",
       "      <th></th>\n",
       "      <th>Age</th>\n",
       "      <th>Sex</th>\n",
       "      <th>ChestPainType</th>\n",
       "      <th>RestingBP</th>\n",
       "      <th>Cholesterol</th>\n",
       "      <th>FastingBS</th>\n",
       "      <th>RestingECG</th>\n",
       "      <th>MaxHR</th>\n",
       "      <th>ExerciseAngina</th>\n",
       "      <th>Oldpeak</th>\n",
       "      <th>ST_Slope</th>\n",
       "      <th>HeartDisease</th>\n",
       "    </tr>\n",
       "  </thead>\n",
       "  <tbody>\n",
       "    <tr>\n",
       "      <th>276</th>\n",
       "      <td>51</td>\n",
       "      <td>M</td>\n",
       "      <td>NAP</td>\n",
       "      <td>135</td>\n",
       "      <td>160</td>\n",
       "      <td>0</td>\n",
       "      <td>Normal</td>\n",
       "      <td>150</td>\n",
       "      <td>N</td>\n",
       "      <td>2.0</td>\n",
       "      <td>Flat</td>\n",
       "      <td>1</td>\n",
       "    </tr>\n",
       "    <tr>\n",
       "      <th>815</th>\n",
       "      <td>68</td>\n",
       "      <td>M</td>\n",
       "      <td>NAP</td>\n",
       "      <td>118</td>\n",
       "      <td>277</td>\n",
       "      <td>0</td>\n",
       "      <td>Normal</td>\n",
       "      <td>151</td>\n",
       "      <td>N</td>\n",
       "      <td>1.0</td>\n",
       "      <td>Up</td>\n",
       "      <td>0</td>\n",
       "    </tr>\n",
       "    <tr>\n",
       "      <th>54</th>\n",
       "      <td>52</td>\n",
       "      <td>F</td>\n",
       "      <td>ASY</td>\n",
       "      <td>130</td>\n",
       "      <td>180</td>\n",
       "      <td>0</td>\n",
       "      <td>Normal</td>\n",
       "      <td>140</td>\n",
       "      <td>Y</td>\n",
       "      <td>1.5</td>\n",
       "      <td>Flat</td>\n",
       "      <td>0</td>\n",
       "    </tr>\n",
       "    <tr>\n",
       "      <th>610</th>\n",
       "      <td>54</td>\n",
       "      <td>F</td>\n",
       "      <td>ASY</td>\n",
       "      <td>127</td>\n",
       "      <td>333</td>\n",
       "      <td>1</td>\n",
       "      <td>ST</td>\n",
       "      <td>154</td>\n",
       "      <td>N</td>\n",
       "      <td>0.0</td>\n",
       "      <td>Flat</td>\n",
       "      <td>1</td>\n",
       "    </tr>\n",
       "    <tr>\n",
       "      <th>729</th>\n",
       "      <td>42</td>\n",
       "      <td>M</td>\n",
       "      <td>ATA</td>\n",
       "      <td>120</td>\n",
       "      <td>295</td>\n",
       "      <td>0</td>\n",
       "      <td>Normal</td>\n",
       "      <td>162</td>\n",
       "      <td>N</td>\n",
       "      <td>0.0</td>\n",
       "      <td>Up</td>\n",
       "      <td>0</td>\n",
       "    </tr>\n",
       "    <tr>\n",
       "      <th>636</th>\n",
       "      <td>48</td>\n",
       "      <td>M</td>\n",
       "      <td>ATA</td>\n",
       "      <td>130</td>\n",
       "      <td>245</td>\n",
       "      <td>0</td>\n",
       "      <td>LVH</td>\n",
       "      <td>180</td>\n",
       "      <td>N</td>\n",
       "      <td>0.2</td>\n",
       "      <td>Flat</td>\n",
       "      <td>0</td>\n",
       "    </tr>\n",
       "    <tr>\n",
       "      <th>753</th>\n",
       "      <td>34</td>\n",
       "      <td>F</td>\n",
       "      <td>ATA</td>\n",
       "      <td>118</td>\n",
       "      <td>210</td>\n",
       "      <td>0</td>\n",
       "      <td>Normal</td>\n",
       "      <td>192</td>\n",
       "      <td>N</td>\n",
       "      <td>0.7</td>\n",
       "      <td>Up</td>\n",
       "      <td>0</td>\n",
       "    </tr>\n",
       "    <tr>\n",
       "      <th>43</th>\n",
       "      <td>52</td>\n",
       "      <td>M</td>\n",
       "      <td>NAP</td>\n",
       "      <td>140</td>\n",
       "      <td>259</td>\n",
       "      <td>0</td>\n",
       "      <td>ST</td>\n",
       "      <td>170</td>\n",
       "      <td>N</td>\n",
       "      <td>0.0</td>\n",
       "      <td>Up</td>\n",
       "      <td>0</td>\n",
       "    </tr>\n",
       "    <tr>\n",
       "      <th>179</th>\n",
       "      <td>46</td>\n",
       "      <td>F</td>\n",
       "      <td>ASY</td>\n",
       "      <td>130</td>\n",
       "      <td>238</td>\n",
       "      <td>0</td>\n",
       "      <td>Normal</td>\n",
       "      <td>90</td>\n",
       "      <td>N</td>\n",
       "      <td>0.0</td>\n",
       "      <td>Up</td>\n",
       "      <td>0</td>\n",
       "    </tr>\n",
       "    <tr>\n",
       "      <th>705</th>\n",
       "      <td>59</td>\n",
       "      <td>M</td>\n",
       "      <td>ATA</td>\n",
       "      <td>140</td>\n",
       "      <td>221</td>\n",
       "      <td>0</td>\n",
       "      <td>Normal</td>\n",
       "      <td>164</td>\n",
       "      <td>Y</td>\n",
       "      <td>0.0</td>\n",
       "      <td>Up</td>\n",
       "      <td>0</td>\n",
       "    </tr>\n",
       "  </tbody>\n",
       "</table>\n",
       "</div>"
      ],
      "text/plain": [
       "     Age Sex ChestPainType  ...  Oldpeak  ST_Slope  HeartDisease\n",
       "276   51   M           NAP  ...      2.0      Flat             1\n",
       "815   68   M           NAP  ...      1.0        Up             0\n",
       "54    52   F           ASY  ...      1.5      Flat             0\n",
       "610   54   F           ASY  ...      0.0      Flat             1\n",
       "729   42   M           ATA  ...      0.0        Up             0\n",
       "636   48   M           ATA  ...      0.2      Flat             0\n",
       "753   34   F           ATA  ...      0.7        Up             0\n",
       "43    52   M           NAP  ...      0.0        Up             0\n",
       "179   46   F           ASY  ...      0.0        Up             0\n",
       "705   59   M           ATA  ...      0.0        Up             0\n",
       "\n",
       "[10 rows x 12 columns]"
      ]
     },
     "execution_count": 632,
     "metadata": {},
     "output_type": "execute_result"
    }
   ],
   "source": [
    "path = \"D:\\\\datasets\\\\Heart\\\\heart.csv\"\n",
    "file = read_csv(path)\n",
    "df = file.copy()\n",
    "df.sample(10)"
   ]
  },
  {
   "cell_type": "code",
   "execution_count": 633,
   "id": "7c9684c6",
   "metadata": {},
   "outputs": [
    {
     "name": "stdout",
     "output_type": "stream",
     "text": [
      "<class 'pandas.core.frame.DataFrame'>\n",
      "RangeIndex: 918 entries, 0 to 917\n",
      "Data columns (total 12 columns):\n",
      " #   Column          Non-Null Count  Dtype  \n",
      "---  ------          --------------  -----  \n",
      " 0   Age             918 non-null    int64  \n",
      " 1   Sex             918 non-null    object \n",
      " 2   ChestPainType   918 non-null    object \n",
      " 3   RestingBP       918 non-null    int64  \n",
      " 4   Cholesterol     918 non-null    int64  \n",
      " 5   FastingBS       918 non-null    int64  \n",
      " 6   RestingECG      918 non-null    object \n",
      " 7   MaxHR           918 non-null    int64  \n",
      " 8   ExerciseAngina  918 non-null    object \n",
      " 9   Oldpeak         918 non-null    float64\n",
      " 10  ST_Slope        918 non-null    object \n",
      " 11  HeartDisease    918 non-null    int64  \n",
      "dtypes: float64(1), int64(6), object(5)\n",
      "memory usage: 86.2+ KB\n"
     ]
    }
   ],
   "source": [
    "df.info()"
   ]
  },
  {
   "cell_type": "code",
   "execution_count": 634,
   "id": "496a5a63",
   "metadata": {},
   "outputs": [],
   "source": [
    "label = df.HeartDisease\n",
    "features = df.drop(['HeartDisease'],axis=1)"
   ]
  },
  {
   "cell_type": "code",
   "execution_count": 635,
   "id": "dcd0d8f8",
   "metadata": {},
   "outputs": [
    {
     "data": {
      "text/plain": [
       "1    508\n",
       "0    410\n",
       "Name: HeartDisease, dtype: int64"
      ]
     },
     "execution_count": 635,
     "metadata": {},
     "output_type": "execute_result"
    }
   ],
   "source": [
    "label.value_counts()"
   ]
  },
  {
   "cell_type": "markdown",
   "id": "19064520",
   "metadata": {},
   "source": [
    "# Task 2"
   ]
  },
  {
   "cell_type": "markdown",
   "id": "8cf88237",
   "metadata": {},
   "source": [
    "Analyzing data"
   ]
  },
  {
   "cell_type": "code",
   "execution_count": 636,
   "id": "f87e7415",
   "metadata": {},
   "outputs": [],
   "source": [
    "sick = [i for i in label if i == 1]\n",
    "normal = [i for i in label if i == 0]"
   ]
  },
  {
   "cell_type": "code",
   "execution_count": 637,
   "id": "dbbb457a",
   "metadata": {},
   "outputs": [
    {
     "data": {
      "image/png": "[encoded data removed]",
      "text/plain": [
       "<Figure size 640x480 with 1 Axes>"
      ]
     },
     "metadata": {},
     "output_type": "display_data"
    }
   ],
   "source": [
    "sick_percent = (len(sick)*100)//len(label)\n",
    "normal_percent = 100 - sick_percent\n",
    "pie([len(sick),len(normal)],labels=['Sick','Normal'])\n",
    "title(f'Heart Disease\\n{sick_percent}% with Disease\\n{normal_percent}% without Disease')\n",
    "show()"
   ]
  },
  {
   "cell_type": "code",
   "execution_count": 638,
   "id": "8a608865",
   "metadata": {},
   "outputs": [
    {
     "data": {
      "image/png": "[encoded data removed]",
      "text/plain": [
       "<Figure size 640x480 with 1 Axes>"
      ]
     },
     "metadata": {},
     "output_type": "display_data"
    }
   ],
   "source": [
    "male_percent = (len([i for i in df.Sex if i == 'M'])*100)//len(df.Sex)\n",
    "Female_percent = 100 - male_percent\n",
    "pie([len([i for i in df.Sex if i == 'M']),\n",
    "     len([i for i in df.Sex if i == 'F'])],\n",
    "    labels=['Male','Female'],colors=['green','red'])\n",
    "title(f'Rate of genders\\n{male_percent}% Male\\n{Female_percent}%Female')\n",
    "show()"
   ]
  },
  {
   "cell_type": "code",
   "execution_count": 639,
   "id": "f455a939",
   "metadata": {},
   "outputs": [
    {
     "data": {
      "image/png": "[encoded data removed]",
      "text/plain": [
       "<Figure size 640x480 with 1 Axes>"
      ]
     },
     "metadata": {},
     "output_type": "display_data"
    }
   ],
   "source": [
    "hist(df.Age)\n",
    "title('Distribution of ages')\n",
    "xlabel('Age')\n",
    "ylabel('Count')\n",
    "show()"
   ]
  },
  {
   "cell_type": "code",
   "execution_count": 640,
   "id": "3754ce6f",
   "metadata": {},
   "outputs": [
    {
     "name": "stdout",
     "output_type": "stream",
     "text": [
      "The average age of people with heart disease is : 53.5\n"
     ]
    }
   ],
   "source": [
    "sick_df = df[df['HeartDisease']==1]\n",
    "print(f'The average age of people with heart disease is : {mean(df.Age):.1f}')"
   ]
  },
  {
   "cell_type": "markdown",
   "id": "ec4060c5",
   "metadata": {},
   "source": [
    "# Task 3"
   ]
  },
  {
   "cell_type": "markdown",
   "id": "c2447498",
   "metadata": {},
   "source": [
    "Data preparing"
   ]
  },
  {
   "cell_type": "code",
   "execution_count": 641,
   "id": "4ffece9f",
   "metadata": {},
   "outputs": [],
   "source": [
    "scaler = StandardScaler()"
   ]
  },
  {
   "cell_type": "code",
   "execution_count": 642,
   "id": "0338961a",
   "metadata": {},
   "outputs": [
    {
     "name": "stdout",
     "output_type": "stream",
     "text": [
      "<class 'pandas.core.frame.DataFrame'>\n",
      "RangeIndex: 918 entries, 0 to 917\n",
      "Data columns (total 6 columns):\n",
      " #   Column       Non-Null Count  Dtype  \n",
      "---  ------       --------------  -----  \n",
      " 0   Age          918 non-null    int64  \n",
      " 1   RestingBP    918 non-null    int64  \n",
      " 2   Cholesterol  918 non-null    int64  \n",
      " 3   FastingBS    918 non-null    int64  \n",
      " 4   MaxHR        918 non-null    int64  \n",
      " 5   Oldpeak      918 non-null    float64\n",
      "dtypes: float64(1), int64(5)\n",
      "memory usage: 43.2 KB\n"
     ]
    }
   ],
   "source": [
    "nan_x_cols = [col for col in features if features[col].dtype=='O']\n",
    "numeric_x = features.drop(nan_x_cols,axis=1)\n",
    "numeric_x.info()"
   ]
  },
  {
   "cell_type": "code",
   "execution_count": 643,
   "id": "61cc7f1c",
   "metadata": {},
   "outputs": [
    {
     "data": {
      "text/html": [
       "<div>\n",
       "<style scoped>\n",
       "    .dataframe tbody tr th:only-of-type {\n",
       "        vertical-align: middle;\n",
       "    }\n",
       "\n",
       "    .dataframe tbody tr th {\n",
       "        vertical-align: top;\n",
       "    }\n",
       "\n",
       "    .dataframe thead th {\n",
       "        text-align: right;\n",
       "    }\n",
       "</style>\n",
       "<table border=\"1\" class=\"dataframe\">\n",
       "  <thead>\n",
       "    <tr style=\"text-align: right;\">\n",
       "      <th></th>\n",
       "      <th>Age</th>\n",
       "      <th>RestingBP</th>\n",
       "      <th>Cholesterol</th>\n",
       "      <th>FastingBS</th>\n",
       "      <th>MaxHR</th>\n",
       "      <th>Oldpeak</th>\n",
       "    </tr>\n",
       "  </thead>\n",
       "  <tbody>\n",
       "    <tr>\n",
       "      <th>count</th>\n",
       "      <td>9.180000e+02</td>\n",
       "      <td>9.180000e+02</td>\n",
       "      <td>9.180000e+02</td>\n",
       "      <td>9.180000e+02</td>\n",
       "      <td>9.180000e+02</td>\n",
       "      <td>9.180000e+02</td>\n",
       "    </tr>\n",
       "    <tr>\n",
       "      <th>mean</th>\n",
       "      <td>-7.304735e-17</td>\n",
       "      <td>1.084221e-16</td>\n",
       "      <td>-6.482953e-16</td>\n",
       "      <td>-1.009843e-15</td>\n",
       "      <td>4.370747e-16</td>\n",
       "      <td>-2.024524e-16</td>\n",
       "    </tr>\n",
       "    <tr>\n",
       "      <th>std</th>\n",
       "      <td>1.000545e+00</td>\n",
       "      <td>1.000545e+00</td>\n",
       "      <td>1.000545e+00</td>\n",
       "      <td>1.000545e+00</td>\n",
       "      <td>1.000545e+00</td>\n",
       "      <td>1.000545e+00</td>\n",
       "    </tr>\n",
       "    <tr>\n",
       "      <th>min</th>\n",
       "      <td>-2.706015e+00</td>\n",
       "      <td>-7.154995e+00</td>\n",
       "      <td>-1.818435e+00</td>\n",
       "      <td>-5.513413e-01</td>\n",
       "      <td>-3.018469e+00</td>\n",
       "      <td>-3.271482e+00</td>\n",
       "    </tr>\n",
       "    <tr>\n",
       "      <th>25%</th>\n",
       "      <td>-6.906294e-01</td>\n",
       "      <td>-6.699346e-01</td>\n",
       "      <td>-2.337038e-01</td>\n",
       "      <td>-5.513413e-01</td>\n",
       "      <td>-6.605778e-01</td>\n",
       "      <td>-8.324324e-01</td>\n",
       "    </tr>\n",
       "    <tr>\n",
       "      <th>50%</th>\n",
       "      <td>5.188098e-02</td>\n",
       "      <td>-1.295128e-01</td>\n",
       "      <td>2.213632e-01</td>\n",
       "      <td>-5.513413e-01</td>\n",
       "      <td>4.678968e-02</td>\n",
       "      <td>-2.695748e-01</td>\n",
       "    </tr>\n",
       "    <tr>\n",
       "      <th>75%</th>\n",
       "      <td>6.883185e-01</td>\n",
       "      <td>4.109089e-01</td>\n",
       "      <td>6.238346e-01</td>\n",
       "      <td>-5.513413e-01</td>\n",
       "      <td>7.541571e-01</td>\n",
       "      <td>5.747115e-01</td>\n",
       "    </tr>\n",
       "    <tr>\n",
       "      <th>max</th>\n",
       "      <td>2.491558e+00</td>\n",
       "      <td>3.653439e+00</td>\n",
       "      <td>3.697252e+00</td>\n",
       "      <td>1.813758e+00</td>\n",
       "      <td>2.561874e+00</td>\n",
       "      <td>4.983762e+00</td>\n",
       "    </tr>\n",
       "  </tbody>\n",
       "</table>\n",
       "</div>"
      ],
      "text/plain": [
       "                Age     RestingBP  ...         MaxHR       Oldpeak\n",
       "count  9.180000e+02  9.180000e+02  ...  9.180000e+02  9.180000e+02\n",
       "mean  -7.304735e-17  1.084221e-16  ...  4.370747e-16 -2.024524e-16\n",
       "std    1.000545e+00  1.000545e+00  ...  1.000545e+00  1.000545e+00\n",
       "min   -2.706015e+00 -7.154995e+00  ... -3.018469e+00 -3.271482e+00\n",
       "25%   -6.906294e-01 -6.699346e-01  ... -6.605778e-01 -8.324324e-01\n",
       "50%    5.188098e-02 -1.295128e-01  ...  4.678968e-02 -2.695748e-01\n",
       "75%    6.883185e-01  4.109089e-01  ...  7.541571e-01  5.747115e-01\n",
       "max    2.491558e+00  3.653439e+00  ...  2.561874e+00  4.983762e+00\n",
       "\n",
       "[8 rows x 6 columns]"
      ]
     },
     "execution_count": 643,
     "metadata": {},
     "output_type": "execute_result"
    }
   ],
   "source": [
    "scaled_numeric_x = DataFrame(scaler.fit_transform(numeric_x),columns=numeric_x.columns)\n",
    "scaled_numeric_x.describe()"
   ]
  },
  {
   "cell_type": "code",
   "execution_count": 644,
   "id": "87e1c29c",
   "metadata": {},
   "outputs": [
    {
     "name": "stdout",
     "output_type": "stream",
     "text": [
      "<class 'pandas.core.frame.DataFrame'>\n",
      "RangeIndex: 918 entries, 0 to 917\n",
      "Data columns (total 5 columns):\n",
      " #   Column          Non-Null Count  Dtype \n",
      "---  ------          --------------  ----- \n",
      " 0   Sex             918 non-null    object\n",
      " 1   ChestPainType   918 non-null    object\n",
      " 2   RestingECG      918 non-null    object\n",
      " 3   ExerciseAngina  918 non-null    object\n",
      " 4   ST_Slope        918 non-null    object\n",
      "dtypes: object(5)\n",
      "memory usage: 36.0+ KB\n"
     ]
    }
   ],
   "source": [
    "nan_x = features.drop(numeric_x.columns,axis=1)\n",
    "nan_x.info()"
   ]
  },
  {
   "cell_type": "code",
   "execution_count": 645,
   "id": "bb71f9ec",
   "metadata": {
    "scrolled": true
   },
   "outputs": [
    {
     "name": "stdout",
     "output_type": "stream",
     "text": [
      "Sex\n",
      "['M' 'F']\n",
      "ChestPainType\n",
      "['ATA' 'NAP' 'ASY' 'TA']\n",
      "RestingECG\n",
      "['Normal' 'ST' 'LVH']\n",
      "ExerciseAngina\n",
      "['N' 'Y']\n",
      "ST_Slope\n",
      "['Up' 'Flat' 'Down']\n"
     ]
    }
   ],
   "source": [
    "for col in nan_x.columns :\n",
    "    print(col)\n",
    "    print(nan_x[col].unique())"
   ]
  },
  {
   "cell_type": "code",
   "execution_count": 646,
   "id": "8a2dcb50",
   "metadata": {},
   "outputs": [
    {
     "data": {
      "text/html": [
       "<div>\n",
       "<style scoped>\n",
       "    .dataframe tbody tr th:only-of-type {\n",
       "        vertical-align: middle;\n",
       "    }\n",
       "\n",
       "    .dataframe tbody tr th {\n",
       "        vertical-align: top;\n",
       "    }\n",
       "\n",
       "    .dataframe thead th {\n",
       "        text-align: right;\n",
       "    }\n",
       "</style>\n",
       "<table border=\"1\" class=\"dataframe\">\n",
       "  <thead>\n",
       "    <tr style=\"text-align: right;\">\n",
       "      <th></th>\n",
       "      <th>Sex_F</th>\n",
       "      <th>Sex_M</th>\n",
       "      <th>ChestPainType_ASY</th>\n",
       "      <th>ChestPainType_ATA</th>\n",
       "      <th>ChestPainType_NAP</th>\n",
       "      <th>ChestPainType_TA</th>\n",
       "      <th>RestingECG_LVH</th>\n",
       "      <th>RestingECG_Normal</th>\n",
       "      <th>RestingECG_ST</th>\n",
       "      <th>ExerciseAngina_N</th>\n",
       "      <th>ExerciseAngina_Y</th>\n",
       "      <th>ST_Slope_Down</th>\n",
       "      <th>ST_Slope_Flat</th>\n",
       "      <th>ST_Slope_Up</th>\n",
       "    </tr>\n",
       "  </thead>\n",
       "  <tbody>\n",
       "    <tr>\n",
       "      <th>0</th>\n",
       "      <td>0</td>\n",
       "      <td>1</td>\n",
       "      <td>0</td>\n",
       "      <td>1</td>\n",
       "      <td>0</td>\n",
       "      <td>0</td>\n",
       "      <td>0</td>\n",
       "      <td>1</td>\n",
       "      <td>0</td>\n",
       "      <td>1</td>\n",
       "      <td>0</td>\n",
       "      <td>0</td>\n",
       "      <td>0</td>\n",
       "      <td>1</td>\n",
       "    </tr>\n",
       "    <tr>\n",
       "      <th>1</th>\n",
       "      <td>1</td>\n",
       "      <td>0</td>\n",
       "      <td>0</td>\n",
       "      <td>0</td>\n",
       "      <td>1</td>\n",
       "      <td>0</td>\n",
       "      <td>0</td>\n",
       "      <td>1</td>\n",
       "      <td>0</td>\n",
       "      <td>1</td>\n",
       "      <td>0</td>\n",
       "      <td>0</td>\n",
       "      <td>1</td>\n",
       "      <td>0</td>\n",
       "    </tr>\n",
       "    <tr>\n",
       "      <th>2</th>\n",
       "      <td>0</td>\n",
       "      <td>1</td>\n",
       "      <td>0</td>\n",
       "      <td>1</td>\n",
       "      <td>0</td>\n",
       "      <td>0</td>\n",
       "      <td>0</td>\n",
       "      <td>0</td>\n",
       "      <td>1</td>\n",
       "      <td>1</td>\n",
       "      <td>0</td>\n",
       "      <td>0</td>\n",
       "      <td>0</td>\n",
       "      <td>1</td>\n",
       "    </tr>\n",
       "    <tr>\n",
       "      <th>3</th>\n",
       "      <td>1</td>\n",
       "      <td>0</td>\n",
       "      <td>1</td>\n",
       "      <td>0</td>\n",
       "      <td>0</td>\n",
       "      <td>0</td>\n",
       "      <td>0</td>\n",
       "      <td>1</td>\n",
       "      <td>0</td>\n",
       "      <td>0</td>\n",
       "      <td>1</td>\n",
       "      <td>0</td>\n",
       "      <td>1</td>\n",
       "      <td>0</td>\n",
       "    </tr>\n",
       "    <tr>\n",
       "      <th>4</th>\n",
       "      <td>0</td>\n",
       "      <td>1</td>\n",
       "      <td>0</td>\n",
       "      <td>0</td>\n",
       "      <td>1</td>\n",
       "      <td>0</td>\n",
       "      <td>0</td>\n",
       "      <td>1</td>\n",
       "      <td>0</td>\n",
       "      <td>1</td>\n",
       "      <td>0</td>\n",
       "      <td>0</td>\n",
       "      <td>0</td>\n",
       "      <td>1</td>\n",
       "    </tr>\n",
       "  </tbody>\n",
       "</table>\n",
       "</div>"
      ],
      "text/plain": [
       "   Sex_F  Sex_M  ChestPainType_ASY  ...  ST_Slope_Down  ST_Slope_Flat  ST_Slope_Up\n",
       "0      0      1                  0  ...              0              0            1\n",
       "1      1      0                  0  ...              0              1            0\n",
       "2      0      1                  0  ...              0              0            1\n",
       "3      1      0                  1  ...              0              1            0\n",
       "4      0      1                  0  ...              0              0            1\n",
       "\n",
       "[5 rows x 14 columns]"
      ]
     },
     "execution_count": 646,
     "metadata": {},
     "output_type": "execute_result"
    }
   ],
   "source": [
    "encoded_nan_x = get_dummies(nan_x)\n",
    "encoded_nan_x.head()"
   ]
  },
  {
   "cell_type": "code",
   "execution_count": 647,
   "id": "586832d7",
   "metadata": {},
   "outputs": [
    {
     "name": "stdout",
     "output_type": "stream",
     "text": [
      "<class 'pandas.core.frame.DataFrame'>\n",
      "RangeIndex: 918 entries, 0 to 917\n",
      "Data columns (total 20 columns):\n",
      " #   Column             Non-Null Count  Dtype  \n",
      "---  ------             --------------  -----  \n",
      " 0   Age                918 non-null    float64\n",
      " 1   RestingBP          918 non-null    float64\n",
      " 2   Cholesterol        918 non-null    float64\n",
      " 3   FastingBS          918 non-null    float64\n",
      " 4   MaxHR              918 non-null    float64\n",
      " 5   Oldpeak            918 non-null    float64\n",
      " 6   Sex_F              918 non-null    uint8  \n",
      " 7   Sex_M              918 non-null    uint8  \n",
      " 8   ChestPainType_ASY  918 non-null    uint8  \n",
      " 9   ChestPainType_ATA  918 non-null    uint8  \n",
      " 10  ChestPainType_NAP  918 non-null    uint8  \n",
      " 11  ChestPainType_TA   918 non-null    uint8  \n",
      " 12  RestingECG_LVH     918 non-null    uint8  \n",
      " 13  RestingECG_Normal  918 non-null    uint8  \n",
      " 14  RestingECG_ST      918 non-null    uint8  \n",
      " 15  ExerciseAngina_N   918 non-null    uint8  \n",
      " 16  ExerciseAngina_Y   918 non-null    uint8  \n",
      " 17  ST_Slope_Down      918 non-null    uint8  \n",
      " 18  ST_Slope_Flat      918 non-null    uint8  \n",
      " 19  ST_Slope_Up        918 non-null    uint8  \n",
      "dtypes: float64(6), uint8(14)\n",
      "memory usage: 55.7 KB\n"
     ]
    }
   ],
   "source": [
    "ready_features = concat([scaled_numeric_x,encoded_nan_x],axis=1)\n",
    "ready_features.info()"
   ]
  },
  {
   "cell_type": "code",
   "execution_count": 648,
   "id": "e9bf7ead",
   "metadata": {},
   "outputs": [
    {
     "data": {
      "text/html": [
       "<div>\n",
       "<style scoped>\n",
       "    .dataframe tbody tr th:only-of-type {\n",
       "        vertical-align: middle;\n",
       "    }\n",
       "\n",
       "    .dataframe tbody tr th {\n",
       "        vertical-align: top;\n",
       "    }\n",
       "\n",
       "    .dataframe thead th {\n",
       "        text-align: right;\n",
       "    }\n",
       "</style>\n",
       "<table border=\"1\" class=\"dataframe\">\n",
       "  <thead>\n",
       "    <tr style=\"text-align: right;\">\n",
       "      <th></th>\n",
       "      <th>Age</th>\n",
       "      <th>RestingBP</th>\n",
       "      <th>Cholesterol</th>\n",
       "      <th>FastingBS</th>\n",
       "      <th>MaxHR</th>\n",
       "      <th>Oldpeak</th>\n",
       "      <th>Sex_F</th>\n",
       "      <th>Sex_M</th>\n",
       "      <th>ChestPainType_ASY</th>\n",
       "      <th>ChestPainType_ATA</th>\n",
       "      <th>ChestPainType_NAP</th>\n",
       "      <th>ChestPainType_TA</th>\n",
       "      <th>RestingECG_LVH</th>\n",
       "      <th>RestingECG_Normal</th>\n",
       "      <th>RestingECG_ST</th>\n",
       "      <th>ExerciseAngina_N</th>\n",
       "      <th>ExerciseAngina_Y</th>\n",
       "      <th>ST_Slope_Down</th>\n",
       "      <th>ST_Slope_Flat</th>\n",
       "      <th>ST_Slope_Up</th>\n",
       "    </tr>\n",
       "  </thead>\n",
       "  <tbody>\n",
       "    <tr>\n",
       "      <th>count</th>\n",
       "      <td>9.180000e+02</td>\n",
       "      <td>9.180000e+02</td>\n",
       "      <td>9.180000e+02</td>\n",
       "      <td>9.180000e+02</td>\n",
       "      <td>9.180000e+02</td>\n",
       "      <td>9.180000e+02</td>\n",
       "      <td>918.000000</td>\n",
       "      <td>918.000000</td>\n",
       "      <td>918.000000</td>\n",
       "      <td>918.000000</td>\n",
       "      <td>918.000000</td>\n",
       "      <td>918.000000</td>\n",
       "      <td>918.000000</td>\n",
       "      <td>918.000000</td>\n",
       "      <td>918.000000</td>\n",
       "      <td>918.000000</td>\n",
       "      <td>918.000000</td>\n",
       "      <td>918.000000</td>\n",
       "      <td>918.000000</td>\n",
       "      <td>918.000000</td>\n",
       "    </tr>\n",
       "    <tr>\n",
       "      <th>mean</th>\n",
       "      <td>-7.304735e-17</td>\n",
       "      <td>1.084221e-16</td>\n",
       "      <td>-6.482953e-16</td>\n",
       "      <td>-1.009843e-15</td>\n",
       "      <td>4.370747e-16</td>\n",
       "      <td>-2.024524e-16</td>\n",
       "      <td>0.210240</td>\n",
       "      <td>0.789760</td>\n",
       "      <td>0.540305</td>\n",
       "      <td>0.188453</td>\n",
       "      <td>0.221133</td>\n",
       "      <td>0.050109</td>\n",
       "      <td>0.204793</td>\n",
       "      <td>0.601307</td>\n",
       "      <td>0.193900</td>\n",
       "      <td>0.595861</td>\n",
       "      <td>0.404139</td>\n",
       "      <td>0.068627</td>\n",
       "      <td>0.501089</td>\n",
       "      <td>0.430283</td>\n",
       "    </tr>\n",
       "    <tr>\n",
       "      <th>std</th>\n",
       "      <td>1.000545e+00</td>\n",
       "      <td>1.000545e+00</td>\n",
       "      <td>1.000545e+00</td>\n",
       "      <td>1.000545e+00</td>\n",
       "      <td>1.000545e+00</td>\n",
       "      <td>1.000545e+00</td>\n",
       "      <td>0.407701</td>\n",
       "      <td>0.407701</td>\n",
       "      <td>0.498645</td>\n",
       "      <td>0.391287</td>\n",
       "      <td>0.415236</td>\n",
       "      <td>0.218289</td>\n",
       "      <td>0.403770</td>\n",
       "      <td>0.489896</td>\n",
       "      <td>0.395567</td>\n",
       "      <td>0.490992</td>\n",
       "      <td>0.490992</td>\n",
       "      <td>0.252957</td>\n",
       "      <td>0.500271</td>\n",
       "      <td>0.495386</td>\n",
       "    </tr>\n",
       "    <tr>\n",
       "      <th>min</th>\n",
       "      <td>-2.706015e+00</td>\n",
       "      <td>-7.154995e+00</td>\n",
       "      <td>-1.818435e+00</td>\n",
       "      <td>-5.513413e-01</td>\n",
       "      <td>-3.018469e+00</td>\n",
       "      <td>-3.271482e+00</td>\n",
       "      <td>0.000000</td>\n",
       "      <td>0.000000</td>\n",
       "      <td>0.000000</td>\n",
       "      <td>0.000000</td>\n",
       "      <td>0.000000</td>\n",
       "      <td>0.000000</td>\n",
       "      <td>0.000000</td>\n",
       "      <td>0.000000</td>\n",
       "      <td>0.000000</td>\n",
       "      <td>0.000000</td>\n",
       "      <td>0.000000</td>\n",
       "      <td>0.000000</td>\n",
       "      <td>0.000000</td>\n",
       "      <td>0.000000</td>\n",
       "    </tr>\n",
       "    <tr>\n",
       "      <th>25%</th>\n",
       "      <td>-6.906294e-01</td>\n",
       "      <td>-6.699346e-01</td>\n",
       "      <td>-2.337038e-01</td>\n",
       "      <td>-5.513413e-01</td>\n",
       "      <td>-6.605778e-01</td>\n",
       "      <td>-8.324324e-01</td>\n",
       "      <td>0.000000</td>\n",
       "      <td>1.000000</td>\n",
       "      <td>0.000000</td>\n",
       "      <td>0.000000</td>\n",
       "      <td>0.000000</td>\n",
       "      <td>0.000000</td>\n",
       "      <td>0.000000</td>\n",
       "      <td>0.000000</td>\n",
       "      <td>0.000000</td>\n",
       "      <td>0.000000</td>\n",
       "      <td>0.000000</td>\n",
       "      <td>0.000000</td>\n",
       "      <td>0.000000</td>\n",
       "      <td>0.000000</td>\n",
       "    </tr>\n",
       "    <tr>\n",
       "      <th>50%</th>\n",
       "      <td>5.188098e-02</td>\n",
       "      <td>-1.295128e-01</td>\n",
       "      <td>2.213632e-01</td>\n",
       "      <td>-5.513413e-01</td>\n",
       "      <td>4.678968e-02</td>\n",
       "      <td>-2.695748e-01</td>\n",
       "      <td>0.000000</td>\n",
       "      <td>1.000000</td>\n",
       "      <td>1.000000</td>\n",
       "      <td>0.000000</td>\n",
       "      <td>0.000000</td>\n",
       "      <td>0.000000</td>\n",
       "      <td>0.000000</td>\n",
       "      <td>1.000000</td>\n",
       "      <td>0.000000</td>\n",
       "      <td>1.000000</td>\n",
       "      <td>0.000000</td>\n",
       "      <td>0.000000</td>\n",
       "      <td>1.000000</td>\n",
       "      <td>0.000000</td>\n",
       "    </tr>\n",
       "    <tr>\n",
       "      <th>75%</th>\n",
       "      <td>6.883185e-01</td>\n",
       "      <td>4.109089e-01</td>\n",
       "      <td>6.238346e-01</td>\n",
       "      <td>-5.513413e-01</td>\n",
       "      <td>7.541571e-01</td>\n",
       "      <td>5.747115e-01</td>\n",
       "      <td>0.000000</td>\n",
       "      <td>1.000000</td>\n",
       "      <td>1.000000</td>\n",
       "      <td>0.000000</td>\n",
       "      <td>0.000000</td>\n",
       "      <td>0.000000</td>\n",
       "      <td>0.000000</td>\n",
       "      <td>1.000000</td>\n",
       "      <td>0.000000</td>\n",
       "      <td>1.000000</td>\n",
       "      <td>1.000000</td>\n",
       "      <td>0.000000</td>\n",
       "      <td>1.000000</td>\n",
       "      <td>1.000000</td>\n",
       "    </tr>\n",
       "    <tr>\n",
       "      <th>max</th>\n",
       "      <td>2.491558e+00</td>\n",
       "      <td>3.653439e+00</td>\n",
       "      <td>3.697252e+00</td>\n",
       "      <td>1.813758e+00</td>\n",
       "      <td>2.561874e+00</td>\n",
       "      <td>4.983762e+00</td>\n",
       "      <td>1.000000</td>\n",
       "      <td>1.000000</td>\n",
       "      <td>1.000000</td>\n",
       "      <td>1.000000</td>\n",
       "      <td>1.000000</td>\n",
       "      <td>1.000000</td>\n",
       "      <td>1.000000</td>\n",
       "      <td>1.000000</td>\n",
       "      <td>1.000000</td>\n",
       "      <td>1.000000</td>\n",
       "      <td>1.000000</td>\n",
       "      <td>1.000000</td>\n",
       "      <td>1.000000</td>\n",
       "      <td>1.000000</td>\n",
       "    </tr>\n",
       "  </tbody>\n",
       "</table>\n",
       "</div>"
      ],
      "text/plain": [
       "                Age     RestingBP  ...  ST_Slope_Flat  ST_Slope_Up\n",
       "count  9.180000e+02  9.180000e+02  ...     918.000000   918.000000\n",
       "mean  -7.304735e-17  1.084221e-16  ...       0.501089     0.430283\n",
       "std    1.000545e+00  1.000545e+00  ...       0.500271     0.495386\n",
       "min   -2.706015e+00 -7.154995e+00  ...       0.000000     0.000000\n",
       "25%   -6.906294e-01 -6.699346e-01  ...       0.000000     0.000000\n",
       "50%    5.188098e-02 -1.295128e-01  ...       1.000000     0.000000\n",
       "75%    6.883185e-01  4.109089e-01  ...       1.000000     1.000000\n",
       "max    2.491558e+00  3.653439e+00  ...       1.000000     1.000000\n",
       "\n",
       "[8 rows x 20 columns]"
      ]
     },
     "execution_count": 648,
     "metadata": {},
     "output_type": "execute_result"
    }
   ],
   "source": [
    "ready_features.describe()"
   ]
  },
  {
   "cell_type": "code",
   "execution_count": 667,
   "id": "844ab296",
   "metadata": {},
   "outputs": [],
   "source": [
    "xtr , xts , ytr , yts = train_test_split(ready_features,label,test_size=0.2,random_state=0)"
   ]
  },
  {
   "cell_type": "code",
   "execution_count": 668,
   "id": "fffb4c5c",
   "metadata": {},
   "outputs": [
    {
     "name": "stdout",
     "output_type": "stream",
     "text": [
      "Size of train set : 734\n",
      "Size of test set : 184\n"
     ]
    },
    {
     "data": {
      "image/png": "[encoded data removed]",
      "text/plain": [
       "<Figure size 640x480 with 1 Axes>"
      ]
     },
     "metadata": {},
     "output_type": "display_data"
    },
    {
     "data": {
      "image/png": "[encoded data removed]",
      "text/plain": [
       "<Figure size 640x480 with 1 Axes>"
      ]
     },
     "metadata": {},
     "output_type": "display_data"
    }
   ],
   "source": [
    "print(f'Size of train set : {len(xtr)}\\nSize of test set : {len(xts)}')\n",
    "one_tr = len([i for i in ytr if i ==1])\n",
    "zero_tr = len(ytr) - one_tr\n",
    "one_ts = len([i for i in yts if i ==1])\n",
    "zero_ts = len(yts) - one_ts\n",
    "pie([one_tr,zero_tr],labels=['Sick','Normal'],colors=['pink','gray'])\n",
    "title('Rate of label in train set')\n",
    "show()\n",
    "pie([one_ts,zero_ts],labels=['Sick','Normal'],colors=['pink','gray'])\n",
    "title('Rate of label in test set')\n",
    "show()"
   ]
  },
  {
   "cell_type": "markdown",
   "id": "0a7f5113",
   "metadata": {},
   "source": [
    "# Task 4"
   ]
  },
  {
   "cell_type": "markdown",
   "id": "1883cf89",
   "metadata": {},
   "source": [
    "Modeling and evaluating"
   ]
  },
  {
   "cell_type": "code",
   "execution_count": 669,
   "id": "b1c263d3",
   "metadata": {},
   "outputs": [],
   "source": [
    "model = GradientBoostingClassifier()"
   ]
  },
  {
   "cell_type": "code",
   "execution_count": 670,
   "id": "6bf89197",
   "metadata": {},
   "outputs": [
    {
     "data": {
      "text/plain": [
       "GradientBoostingClassifier()"
      ]
     },
     "execution_count": 670,
     "metadata": {},
     "output_type": "execute_result"
    }
   ],
   "source": [
    "model.fit(xtr,ytr)"
   ]
  },
  {
   "cell_type": "code",
   "execution_count": 671,
   "id": "727e3ee3",
   "metadata": {},
   "outputs": [
    {
     "name": "stdout",
     "output_type": "stream",
     "text": [
      "Model accuracy on train set\n"
     ]
    },
    {
     "data": {
      "text/plain": [
       "95.09536784741145"
      ]
     },
     "execution_count": 671,
     "metadata": {},
     "output_type": "execute_result"
    }
   ],
   "source": [
    "print('Model accuracy on train set')\n",
    "model.score(xtr,ytr)*100"
   ]
  },
  {
   "cell_type": "code",
   "execution_count": 675,
   "id": "95cde39c",
   "metadata": {},
   "outputs": [
    {
     "name": "stdout",
     "output_type": "stream",
     "text": [
      "Model accuracy on test set\n"
     ]
    },
    {
     "data": {
      "text/plain": [
       "92.3913043478261"
      ]
     },
     "execution_count": 675,
     "metadata": {},
     "output_type": "execute_result"
    }
   ],
   "source": [
    "print('Model accuracy on test set')\n",
    "model.score(xts,yts)*100"
   ]
  },
  {
   "cell_type": "code",
   "execution_count": 676,
   "id": "f3e167af",
   "metadata": {},
   "outputs": [
    {
     "name": "stdout",
     "output_type": "stream",
     "text": [
      "Model accuracy on full data\n"
     ]
    },
    {
     "data": {
      "text/plain": [
       "93.4640522875817"
      ]
     },
     "execution_count": 676,
     "metadata": {},
     "output_type": "execute_result"
    }
   ],
   "source": [
    "print('Model accuracy on full data')\n",
    "model.fit(ready_features,label)\n",
    "model.score(ready_features,label)*100"
   ]
  },
  {
   "cell_type": "code",
   "execution_count": 677,
   "id": "bbbbc53b",
   "metadata": {},
   "outputs": [
    {
     "data": {
      "image/png": "[encoded data removed]",
      "text/plain": [
       "<Figure size 640x480 with 2 Axes>"
      ]
     },
     "metadata": {},
     "output_type": "display_data"
    }
   ],
   "source": [
    "predicts = model.predict(ready_features)\n",
    "Confusion_matrix = confusion_matrix(label,predicts)\n",
    "display = ConfusionMatrixDisplay(Confusion_matrix,display_labels=['Normal','Sick'])\n",
    "display.plot()\n",
    "show()"
   ]
  },
  {
   "cell_type": "markdown",
   "id": "f6c40ebc",
   "metadata": {},
   "source": [
    "Dataset link: https://www.kaggle.com/datasets/amirmahdiabbootalebi/heart-disease"
   ]
  },
  {
   "cell_type": "markdown",
   "id": "b24e5207",
   "metadata": {},
   "source": [
    "# End"
   ]
  }
 ],
 "metadata": {
  "kernelspec": {
   "display_name": "Python 3 (ipykernel)",
   "language": "python",
   "name": "python3"
  },
  "language_info": {
   "codemirror_mode": {
    "name": "ipython",
    "version": 3
   },
   "file_extension": ".py",
   "mimetype": "text/x-python",
   "name": "python",
   "nbconvert_exporter": "python",
   "pygments_lexer": "ipython3",
   "version": "3.9.13"
  }
 },
 "nbformat": 4,
 "nbformat_minor": 5
}
